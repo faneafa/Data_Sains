{
 "cells": [
  {
   "cell_type": "code",
   "execution_count": 2,
   "id": "6dcd56ff",
   "metadata": {},
   "outputs": [],
   "source": [
    "#Import pandas untuk input file csv\n",
    "import pandas as pd"
   ]
  },
  {
   "cell_type": "code",
   "execution_count": 3,
   "id": "8db47fdb",
   "metadata": {},
   "outputs": [
    {
     "name": "stdout",
     "output_type": "stream",
     "text": [
      "        order_id  voucher_amount                   date_time  eta_seconds  \\\n",
      "0     FOOD-10455               0  2018-08-12T20:35:08.001006         1800   \n",
      "1     FOOD-10985               0  2018-09-23T17:44:12.243273         2173   \n",
      "2     FOOD-10911               0  2018-09-19T18:08:09.387991         1418   \n",
      "3     FOOD-10932               0  2018-09-21T01:24:35.272499         1903   \n",
      "4     FOOD-10961               0  2018-09-22T17:57:45.523161         1716   \n",
      "...          ...             ...                         ...          ...   \n",
      "1071  FOOD-10921               0  2018-09-20T15:01:52.152828          900   \n",
      "1072  FOOD-10265            5000  2018-07-26T14:43:23.655294         1579   \n",
      "1073  FOOD-10534               0  2018-08-21T20:10:59.283185         2606   \n",
      "1074  FOOD-10158               0  2018-07-16T14:42:23.214427         2428   \n",
      "1075  FOOD-10770               0  2018-09-11T14:18:19.494258         1547   \n",
      "\n",
      "      food_price  cust_id  rating  delivery_fee   resto_id     status  \\\n",
      "0          18900  1089034     5.0          4000  742638033  Completed   \n",
      "1         149000   180146     5.0         11000  742767245  Completed   \n",
      "2          43800   366528     NaN          9000  742618303  Completed   \n",
      "3          39900   511038     5.0         14000  742541172  Completed   \n",
      "4          77700  1220358     NaN          4000  742604875  Completed   \n",
      "...          ...      ...     ...           ...        ...        ...   \n",
      "1071      103200  1296335     5.0          4000  742742150  Completed   \n",
      "1072      145700  1135466     5.0          7000  742566851  Completed   \n",
      "1073      177200  1383625     NaN         15000  742571888  Completed   \n",
      "1074       49300  1094787     5.0          9000  742725064  Completed   \n",
      "1075       43000  1010922     5.0          9000  742594499  Completed   \n",
      "\n",
      "      random_id  \n",
      "0      0.511149  \n",
      "1      0.832936  \n",
      "2      0.828026  \n",
      "3      0.239377  \n",
      "4      0.995587  \n",
      "...         ...  \n",
      "1071   0.248328  \n",
      "1072   0.268251  \n",
      "1073   0.132528  \n",
      "1074   0.167946  \n",
      "1075   0.358051  \n",
      "\n",
      "[1076 rows x 11 columns]\n"
     ]
    }
   ],
   "source": [
    "#Input data food delivery\n",
    "data = pd.read_csv(r'D:/python/datasain/food_delivery_datasets.csv')\n",
    "print(data)"
   ]
  },
  {
   "cell_type": "code",
   "execution_count": 5,
   "id": "59074ef5",
   "metadata": {},
   "outputs": [
    {
     "data": {
      "text/plain": [
       "cust_id\n",
       "22895       2\n",
       "59565       3\n",
       "62551       3\n",
       "70701       3\n",
       "82690       5\n",
       "           ..\n",
       "1510407     1\n",
       "1514562    13\n",
       "1542763     4\n",
       "1544551     5\n",
       "1548571     6\n",
       "Name: cust_id, Length: 138, dtype: int64"
      ]
     },
     "execution_count": 5,
     "metadata": {},
     "output_type": "execute_result"
    }
   ],
   "source": [
    "id_pelanggan=data.groupby(\"cust_id\")\n",
    "id_pelanggan[\"cust_id\"].count()"
   ]
  },
  {
   "cell_type": "code",
   "execution_count": 6,
   "id": "03ae86be",
   "metadata": {},
   "outputs": [
    {
     "data": {
      "text/html": [
       "<div>\n",
       "<style scoped>\n",
       "    .dataframe tbody tr th:only-of-type {\n",
       "        vertical-align: middle;\n",
       "    }\n",
       "\n",
       "    .dataframe tbody tr th {\n",
       "        vertical-align: top;\n",
       "    }\n",
       "\n",
       "    .dataframe thead th {\n",
       "        text-align: right;\n",
       "    }\n",
       "</style>\n",
       "<table border=\"1\" class=\"dataframe\">\n",
       "  <thead>\n",
       "    <tr style=\"text-align: right;\">\n",
       "      <th></th>\n",
       "      <th>cust_id</th>\n",
       "      <th>count</th>\n",
       "    </tr>\n",
       "  </thead>\n",
       "  <tbody>\n",
       "    <tr>\n",
       "      <th>28</th>\n",
       "      <td>366528</td>\n",
       "      <td>32</td>\n",
       "    </tr>\n",
       "    <tr>\n",
       "      <th>27</th>\n",
       "      <td>361927</td>\n",
       "      <td>31</td>\n",
       "    </tr>\n",
       "    <tr>\n",
       "      <th>22</th>\n",
       "      <td>316834</td>\n",
       "      <td>30</td>\n",
       "    </tr>\n",
       "    <tr>\n",
       "      <th>95</th>\n",
       "      <td>1094787</td>\n",
       "      <td>30</td>\n",
       "    </tr>\n",
       "    <tr>\n",
       "      <th>29</th>\n",
       "      <td>366721</td>\n",
       "      <td>30</td>\n",
       "    </tr>\n",
       "    <tr>\n",
       "      <th>...</th>\n",
       "      <td>...</td>\n",
       "      <td>...</td>\n",
       "    </tr>\n",
       "    <tr>\n",
       "      <th>124</th>\n",
       "      <td>1392044</td>\n",
       "      <td>1</td>\n",
       "    </tr>\n",
       "    <tr>\n",
       "      <th>123</th>\n",
       "      <td>1387972</td>\n",
       "      <td>1</td>\n",
       "    </tr>\n",
       "    <tr>\n",
       "      <th>41</th>\n",
       "      <td>514284</td>\n",
       "      <td>1</td>\n",
       "    </tr>\n",
       "    <tr>\n",
       "      <th>15</th>\n",
       "      <td>185166</td>\n",
       "      <td>1</td>\n",
       "    </tr>\n",
       "    <tr>\n",
       "      <th>81</th>\n",
       "      <td>979027</td>\n",
       "      <td>1</td>\n",
       "    </tr>\n",
       "  </tbody>\n",
       "</table>\n",
       "<p>138 rows × 2 columns</p>\n",
       "</div>"
      ],
      "text/plain": [
       "     cust_id  count\n",
       "28    366528     32\n",
       "27    361927     31\n",
       "22    316834     30\n",
       "95   1094787     30\n",
       "29    366721     30\n",
       "..       ...    ...\n",
       "124  1392044      1\n",
       "123  1387972      1\n",
       "41    514284      1\n",
       "15    185166      1\n",
       "81    979027      1\n",
       "\n",
       "[138 rows x 2 columns]"
      ]
     },
     "execution_count": 6,
     "metadata": {},
     "output_type": "execute_result"
    }
   ],
   "source": [
    "id_pelanggan[\"cust_id\"].count() \\\n",
    "                                        .reset_index(name='count') \\\n",
    "                                        .sort_values(['count'], \\\n",
    "                                                    ascending=False)"
   ]
  },
  {
   "cell_type": "code",
   "execution_count": null,
   "id": "ad3c8c28",
   "metadata": {},
   "outputs": [],
   "source": []
  }
 ],
 "metadata": {
  "kernelspec": {
   "display_name": "Python 3 (ipykernel)",
   "language": "python",
   "name": "python3"
  },
  "language_info": {
   "codemirror_mode": {
    "name": "ipython",
    "version": 3
   },
   "file_extension": ".py",
   "mimetype": "text/x-python",
   "name": "python",
   "nbconvert_exporter": "python",
   "pygments_lexer": "ipython3",
   "version": "3.9.6"
  }
 },
 "nbformat": 4,
 "nbformat_minor": 5
}
